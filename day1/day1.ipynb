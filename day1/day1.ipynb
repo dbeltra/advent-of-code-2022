{
 "cells": [
  {
   "cell_type": "code",
   "execution_count": 11,
   "metadata": {},
   "outputs": [
    {
     "name": "stdout",
     "output_type": "stream",
     "text": [
      "solution to part 1: 68467\n",
      "solution to part 1: 203420\n"
     ]
    }
   ],
   "source": [
    "with open(\"input.txt\") as f:\n",
    "    data = f.read().splitlines()\n",
    "\n",
    "elf_calories = []\n",
    "elf_total = 0\n",
    "for line in data:\n",
    "    if line != '':\n",
    "        elf_total += int(line)\n",
    "    else:\n",
    "        elf_calories.append(elf_total)\n",
    "        elf_total = 0\n",
    "\n",
    "elf_calories.sort(reverse=True)\n",
    "\n",
    "print(f'solution to part 1: {elf_calories[0]}')\n",
    "print(f'solution to part 1: {elf_calories[0] + elf_calories[1] + elf_calories[2]}')"
   ]
  }
 ],
 "metadata": {
  "kernelspec": {
   "display_name": "Python 3.8.13 64-bit",
   "language": "python",
   "name": "python3"
  },
  "language_info": {
   "codemirror_mode": {
    "name": "ipython",
    "version": 3
   },
   "file_extension": ".py",
   "mimetype": "text/x-python",
   "name": "python",
   "nbconvert_exporter": "python",
   "pygments_lexer": "ipython3",
   "version": "3.8.13"
  },
  "orig_nbformat": 4,
  "vscode": {
   "interpreter": {
    "hash": "ff94885aa2d97705a9dae03869c2058fa855d1acd9df351499300343e2e591a2"
   }
  }
 },
 "nbformat": 4,
 "nbformat_minor": 2
}

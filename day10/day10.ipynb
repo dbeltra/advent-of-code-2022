{
 "cells": [
  {
   "cell_type": "code",
   "execution_count": 53,
   "metadata": {},
   "outputs": [
    {
     "name": "stdout",
     "output_type": "stream",
     "text": [
      "Solution to part 2 is:\n",
      "# # # . . # . . # . . # # . . # . . # . # . . # . # # # . . # # # # . # . . # .\n",
      "# . . # . # . . # . # . . # . # . # . . # . . # . # . . # . # . . . . # . # . .\n",
      "# . . # . # . . # . # . . # . # # . . . # # # # . # # # . . # # # . . # # . . .\n",
      "# # # . . # . . # . # # # # . # . # . . # . . # . # . . # . # . . . . # . # . .\n",
      "# . # . . # . . # . # . . # . # . # . . # . . # . # . . # . # . . . . # . # . .\n",
      "# . . # . . # # . . # . . # . # . . # . # . . # . # # # . . # # # # . # . . # .\n",
      "Solution to part 1 is 13220\n"
     ]
    }
   ],
   "source": [
    "with open(\"input.txt\") as f:\n",
    "    input = f.read().splitlines()\n",
    "\n",
    "def init_signals():\n",
    "    signals = []\n",
    "    x = 1\n",
    "    for command in input:\n",
    "        if command == 'noop':\n",
    "            signals = signals + [x]\n",
    "        else:\n",
    "            val = command.split(' ')[1]\n",
    "            signals = signals + [x, x]\n",
    "            x += int(val)\n",
    "    return signals\n",
    "\n",
    "def get_pixel_val(cycle, pos):\n",
    "\tif (cycle - 1) % 40 in [pos-1, pos, pos+1]:\n",
    "\t\treturn '#'\n",
    "\treturn '.'\n",
    "\n",
    "cycle = 1\n",
    "total = 0\n",
    "watch_cycles = [20, 60, 100, 140, 180, 220]\n",
    "\n",
    "print(f'Solution to part 2 is:')\n",
    "\n",
    "for idx, val in enumerate(init_signals(), start=1):\n",
    "    pix_val = get_pixel_val(cycle, val)\n",
    "    end = ' '\n",
    "    if idx % 40 == 0:\n",
    "        end = '\\n'\n",
    "    print(pix_val,  end=end)\n",
    "\n",
    "    if cycle in watch_cycles:\n",
    "        total += cycle * val\n",
    "    cycle += 1\n",
    "\n",
    "print(f'Solution to part 1 is {total}')\n",
    "\n"
   ]
  }
 ],
 "metadata": {
  "kernelspec": {
   "display_name": "Python 3.8.13 64-bit",
   "language": "python",
   "name": "python3"
  },
  "language_info": {
   "codemirror_mode": {
    "name": "ipython",
    "version": 3
   },
   "file_extension": ".py",
   "mimetype": "text/x-python",
   "name": "python",
   "nbconvert_exporter": "python",
   "pygments_lexer": "ipython3",
   "version": "3.8.13"
  },
  "orig_nbformat": 4,
  "vscode": {
   "interpreter": {
    "hash": "ff94885aa2d97705a9dae03869c2058fa855d1acd9df351499300343e2e591a2"
   }
  }
 },
 "nbformat": 4,
 "nbformat_minor": 2
}

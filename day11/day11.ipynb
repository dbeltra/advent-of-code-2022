{
 "cells": [
  {
   "cell_type": "code",
   "execution_count": 1,
   "metadata": {},
   "outputs": [
    {
     "name": "stdout",
     "output_type": "stream",
     "text": [
      "102399\n"
     ]
    }
   ],
   "source": [
    "from dataclasses import dataclass, field\n",
    "import operator\n",
    "ops = { '+' : operator.add, '*' : operator.mul}\n",
    "\n",
    "with open(\"input.txt\") as f:\n",
    "    data = f.read().splitlines()\n",
    "\n",
    "@dataclass\n",
    "class Monkey():\n",
    "    id: int = 0\n",
    "    items: list = field(default_factory=list)\n",
    "    operation_symbol: str = \"+\"\n",
    "    operation_operator_1: str = '1'\n",
    "    operation_operator_2: str = '1'\n",
    "    test: int = 0\n",
    "    true_target_id: int = 0\n",
    "    false_target_id: int = 0\n",
    "    items_inspected_count: int = 0\n",
    "\n",
    "    def play_round(self, decreasing_worry=True):\n",
    "        for item in self.items:\n",
    "            self.items_inspected_count += 1\n",
    "            o1 = self.operation_operator_1\n",
    "            if self.operation_operator_1 == 'old':\n",
    "                o1 = item\n",
    "            o2 = self.operation_operator_2\n",
    "            if self.operation_operator_2 == 'old':\n",
    "                o2 = item\n",
    "            new_worry = ops[self.operation_symbol](int(o1), int(o2))\n",
    "            if decreasing_worry:\n",
    "                new_worry = int(new_worry / 3)\n",
    "            if new_worry % self.test == 0:\n",
    "                monkey_list[self.true_target_id].items.append(new_worry)\n",
    "            else:\n",
    "                monkey_list[self.false_target_id].items.append(new_worry)\n",
    "        self.items = []\n",
    "\n",
    "def parse_input(data):\n",
    "    monkey_list = []\n",
    "    monkey = Monkey()\n",
    "    for line in data:\n",
    "        if line.startswith('Monkey'):\n",
    "            monkey_id = line.split('Monkey ')[1].split(':')[0]\n",
    "            monkey.id = int(monkey_id)\n",
    "        if 'Starting items' in line:\n",
    "            items = line.split('Starting items: ')[1].split(',')\n",
    "            for i in items:\n",
    "                monkey.items.append(int(i))\n",
    "        if 'Operation' in line:\n",
    "            o1, symbol, o2 = line.split('new = ')[1].split(' ')\n",
    "            monkey.operation_operator_1 = o1\n",
    "            monkey.operation_operator_2 = o2\n",
    "            monkey.operation_symbol = symbol\n",
    "\n",
    "        if 'Test' in line:\n",
    "            monkey.test = int(line.split('divisible by ')[1])\n",
    "        if 'If true' in line:\n",
    "            monkey.true_target_id = int(line.split('monkey ')[1])\n",
    "        if 'If false' in line:\n",
    "            monkey.false_target_id = int(line.split('monkey ')[1])\n",
    "            monkey_list.append(monkey)\n",
    "            monkey = Monkey()\n",
    "\n",
    "    return monkey_list\n",
    "\n",
    "\n",
    "def get_monkey_business():\n",
    "    m = sorted(monkey_list, key=lambda x : x.items_inspected_count, reverse=True)\n",
    "    return m[0].items_inspected_count * m[1].items_inspected_count\n",
    "\n",
    "monkey_list = parse_input(data)\n",
    "for cur_round in range(20):\n",
    "    for monkey in monkey_list:\n",
    "        monkey.play_round()\n",
    "\n",
    "mb1 = get_monkey_business()\n",
    "print(mb1)\n",
    "\n",
    "\n",
    "# monkey_list = parse_input(data)\n",
    "# for cur_round in range(10000):\n",
    "#     for monkey in monkey_list:\n",
    "#         monkey.play_round(decreasing_worry=False)\n",
    "\n",
    "# mb2 = get_monkey_business()\n",
    "# print(mb2)"
   ]
  }
 ],
 "metadata": {
  "kernelspec": {
   "display_name": "Python 3.8.13 64-bit",
   "language": "python",
   "name": "python3"
  },
  "language_info": {
   "codemirror_mode": {
    "name": "ipython",
    "version": 3
   },
   "file_extension": ".py",
   "mimetype": "text/x-python",
   "name": "python",
   "nbconvert_exporter": "python",
   "pygments_lexer": "ipython3",
   "version": "3.8.13"
  },
  "orig_nbformat": 4,
  "vscode": {
   "interpreter": {
    "hash": "7a792fcb311f9eb9f3c1b942a8c87ada8484712b89b670347c16a1088e0a1f69"
   }
  }
 },
 "nbformat": 4,
 "nbformat_minor": 2
}

{
 "cells": [
  {
   "cell_type": "code",
   "execution_count": 1,
   "metadata": {},
   "outputs": [
    {
     "name": "stdout",
     "output_type": "stream",
     "text": [
      "solution to part 1: 9759\n",
      "solution to part 1: 12429\n"
     ]
    }
   ],
   "source": [
    "\n",
    "results_p1 = {'AX': 3+1, 'AY': 6+2, 'AZ': 0+3, 'BX': 0+1, 'BY': 3+2,\n",
    "    'BZ': 6+3, 'CX': 6+1, 'CY': 0+2, 'CZ': 3+3}\n",
    "\n",
    "results_p2 = {'AX': 0+3, 'AY': 3+1, 'AZ': 6+2, 'BX': 0+1, 'BY': 3+2,\n",
    "    'BZ': 6+3, 'CX': 0+2, 'CY': 3+3, 'CZ': 6+1}\n",
    "\n",
    "with open(\"input.txt\") as f:\n",
    "    data = f.read().strip().replace(\" \", \"\").splitlines()\n",
    "\n",
    "totalp1 = totalp2 = 0 \n",
    "for match in data:\n",
    "    totalp1 += results_p1[match]\n",
    "    totalp2 += results_p2[match]\n",
    "\n",
    "print(f'solution to part 1: {totalp1}')\n",
    "print(f'solution to part 1: {totalp2}')\n",
    "\n"
   ]
  }
 ],
 "metadata": {
  "kernelspec": {
   "display_name": "Python 3.8.13 64-bit",
   "language": "python",
   "name": "python3"
  },
  "language_info": {
   "codemirror_mode": {
    "name": "ipython",
    "version": 3
   },
   "file_extension": ".py",
   "mimetype": "text/x-python",
   "name": "python",
   "nbconvert_exporter": "python",
   "pygments_lexer": "ipython3",
   "version": "3.8.13"
  },
  "orig_nbformat": 4,
  "vscode": {
   "interpreter": {
    "hash": "7a792fcb311f9eb9f3c1b942a8c87ada8484712b89b670347c16a1088e0a1f69"
   }
  }
 },
 "nbformat": 4,
 "nbformat_minor": 2
}

{
 "cells": [
  {
   "cell_type": "code",
   "execution_count": 19,
   "metadata": {},
   "outputs": [
    {
     "name": "stdout",
     "output_type": "stream",
     "text": [
      "solution to part 1: 7811\n",
      "solution to part 2: 2639\n"
     ]
    }
   ],
   "source": [
    "def letter_to_priority(letter):\n",
    "    if letter.islower():\n",
    "        return ord(letter) - 96\n",
    "    else:\n",
    "        return ord(letter.lower()) - 96 + 26\n",
    "\n",
    "with open(\"input.txt\") as f:\n",
    "    data = f.read().splitlines()\n",
    "\n",
    "total_priority = 0\n",
    "for rucksack in data:\n",
    "    l = len(rucksack)\n",
    "    comp1 = rucksack[:l//2]\n",
    "    comp2 = rucksack[l//2:]\n",
    "\n",
    "    for item in comp1:\n",
    "        position = comp2.find(item)\n",
    "        if position != -1:\n",
    "            total_priority += letter_to_priority(item)\n",
    "            break\n",
    "\n",
    "print(f'solution to part 1: {total_priority}')\n",
    "\n",
    "total_priority = 0\n",
    "elf_group = []\n",
    "for rucksack in data:\n",
    "    elf_group.append(rucksack)\n",
    "    if len(elf_group) == 3:\n",
    "        for item in elf_group[0]:\n",
    "            position1 = elf_group[1].find(item)\n",
    "            position2 = elf_group[2].find(item)\n",
    "            if position1 != -1 and position2 != -1:\n",
    "                total_priority += letter_to_priority(item)\n",
    "                break\n",
    "\n",
    "        elf_group = []\n",
    "\n",
    "print(f'solution to part 2: {total_priority}')"
   ]
  }
 ],
 "metadata": {
  "kernelspec": {
   "display_name": "Python 3.8.13 64-bit",
   "language": "python",
   "name": "python3"
  },
  "language_info": {
   "codemirror_mode": {
    "name": "ipython",
    "version": 3
   },
   "file_extension": ".py",
   "mimetype": "text/x-python",
   "name": "python",
   "nbconvert_exporter": "python",
   "pygments_lexer": "ipython3",
   "version": "3.8.13"
  },
  "orig_nbformat": 4,
  "vscode": {
   "interpreter": {
    "hash": "7a792fcb311f9eb9f3c1b942a8c87ada8484712b89b670347c16a1088e0a1f69"
   }
  }
 },
 "nbformat": 4,
 "nbformat_minor": 2
}

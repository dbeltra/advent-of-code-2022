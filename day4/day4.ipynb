{
 "cells": [
  {
   "cell_type": "code",
   "execution_count": 15,
   "metadata": {},
   "outputs": [
    {
     "name": "stdout",
     "output_type": "stream",
     "text": [
      "solution to part 1: 2\n"
     ]
    }
   ],
   "source": [
    "def range_contains(elf1, elf2):\n",
    "    if(set(elf2).issubset(set(elf1))):\n",
    "        return True\n",
    "    return False\n",
    "\n",
    "def get_list_from_range(elf_range):\n",
    "    range_parts = elf_range.split('-')\n",
    "    return [*range(int(range_parts[0]), int(range_parts[1])+1)]    \n",
    "\n",
    "with open(\"input.txt\") as f:\n",
    "    data = f.read().splitlines()\n",
    "\n",
    "num_contained = 0\n",
    "for elf_pair in data:\n",
    "    elf1 = get_list_from_range(elf_pair.split(',')[0])\n",
    "    elf2 = get_list_from_range(elf_pair.split(',')[1])\n",
    "\n",
    "    if range_contains(elf1, elf2) or range_contains(elf2, elf1):\n",
    "        num_contained +=1\n",
    "\n",
    "print(f'solution to part 1: {num_contained}')\n"
   ]
  }
 ],
 "metadata": {
  "kernelspec": {
   "display_name": "Python 3.8.13 64-bit",
   "language": "python",
   "name": "python3"
  },
  "language_info": {
   "codemirror_mode": {
    "name": "ipython",
    "version": 3
   },
   "file_extension": ".py",
   "mimetype": "text/x-python",
   "name": "python",
   "nbconvert_exporter": "python",
   "pygments_lexer": "ipython3",
   "version": "3.8.13"
  },
  "orig_nbformat": 4,
  "vscode": {
   "interpreter": {
    "hash": "ff94885aa2d97705a9dae03869c2058fa855d1acd9df351499300343e2e591a2"
   }
  }
 },
 "nbformat": 4,
 "nbformat_minor": 2
}

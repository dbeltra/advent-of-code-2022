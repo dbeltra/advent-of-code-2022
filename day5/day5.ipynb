{
 "cells": [
  {
   "cell_type": "code",
   "execution_count": 30,
   "metadata": {},
   "outputs": [
    {
     "name": "stdout",
     "output_type": "stream",
     "text": [
      "solution to part 1: FWSHSPJWM\n",
      "solution to part 2: PWPWHGFZS\n"
     ]
    }
   ],
   "source": [
    "from copy import deepcopy\n",
    "\n",
    "with open(\"input.txt\") as f:\n",
    "    data = f.read().splitlines()\n",
    "\n",
    "CONTAINERS = {\n",
    "    '1': ['C', 'F', 'B', 'L', 'D', 'P', 'Z','S'],\n",
    "    '2': ['B', 'W', 'H', 'P', 'G', 'V', 'N'],\n",
    "    '3': ['G', 'J', 'B', 'W', 'F'],\n",
    "    '4': ['S', 'C', 'W', 'L', 'F', 'N', 'J', 'G'],\n",
    "    '5': ['H', 'S', 'M', 'P', 'T', 'L', 'J', 'W'],\n",
    "    '6': ['S', 'F', 'G', 'W', 'C', 'B'],\n",
    "    '7': ['W', 'B', 'Q', 'M', 'P', 'T', 'H'],\n",
    "    '8': ['T', 'W', 'S', 'F'],\n",
    "    '9': ['R', 'C', 'N']\n",
    "}\n",
    "\n",
    "def move_containers(containers, num, origin, dest):\n",
    "    for n in range(num):\n",
    "        crate = containers[origin].pop(0)\n",
    "        containers[dest].insert(0, crate)\n",
    "\n",
    "def move_containers_blocks(containers, num, origin, dest):\n",
    "    crates_to_move = []\n",
    "    for n in range(num):\n",
    "        crate = containers[origin].pop(0)\n",
    "        crates_to_move.insert(0, crate)\n",
    "\n",
    "    for crate in crates_to_move:\n",
    "        containers[dest].insert(0, crate)\n",
    "\n",
    "def get_top_containers(containers):\n",
    "    result = ''\n",
    "    for c in containers.values():\n",
    "        result += c[0]\n",
    "    return result\n",
    "\n",
    "CONT1 = deepcopy(CONTAINERS)\n",
    "CONT2 = deepcopy(CONTAINERS)\n",
    "\n",
    "for instruction in data:\n",
    "    if 'move' in instruction:\n",
    "        i = instruction.split(' from ')\n",
    "        num = i[0].replace('move ', '')\n",
    "        origin = i[1].split(' to ')[0]\n",
    "        dest = i[1].split(' to ')[1]\n",
    "        move_containers(CONT1, int(num), origin, dest)\n",
    "        move_containers_blocks(CONT2, int(num), origin, dest)\n",
    "\n",
    "resultp1 = get_top_containers(CONT1)\n",
    "resultp2 = get_top_containers(CONT2)\n",
    "\n",
    "print(f'solution to part 1: {resultp1}')\n",
    "print(f'solution to part 2: {resultp2}')"
   ]
  }
 ],
 "metadata": {
  "kernelspec": {
   "display_name": "Python 3.8.13 64-bit",
   "language": "python",
   "name": "python3"
  },
  "language_info": {
   "codemirror_mode": {
    "name": "ipython",
    "version": 3
   },
   "file_extension": ".py",
   "mimetype": "text/x-python",
   "name": "python",
   "nbconvert_exporter": "python",
   "pygments_lexer": "ipython3",
   "version": "3.8.13"
  },
  "orig_nbformat": 4,
  "vscode": {
   "interpreter": {
    "hash": "ff94885aa2d97705a9dae03869c2058fa855d1acd9df351499300343e2e591a2"
   }
  }
 },
 "nbformat": 4,
 "nbformat_minor": 2
}

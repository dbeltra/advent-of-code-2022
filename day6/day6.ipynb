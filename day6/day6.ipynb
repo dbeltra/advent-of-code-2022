{
 "cells": [
  {
   "cell_type": "code",
   "execution_count": 19,
   "metadata": {},
   "outputs": [
    {
     "name": "stdout",
     "output_type": "stream",
     "text": [
      "solution to part 1: 1080\n",
      "solution to part 2: 3645\n"
     ]
    }
   ],
   "source": [
    "with open(\"input.txt\") as f:\n",
    "    data = f.read()\n",
    "\n",
    "packet = {\n",
    "    'marker': [],\n",
    "    'max_len': 4,\n",
    "    'position': 0\n",
    "}\n",
    "\n",
    "message = {\n",
    "    'marker': [],\n",
    "    'max_len': 14,\n",
    "    'position': 0\n",
    "}\n",
    "\n",
    "def add_to_marker(comm_obj, character):\n",
    "    marker = comm_obj['marker']\n",
    "    max_len = int(comm_obj['max_len'])\n",
    "    marker.append(character)\n",
    "    if len(marker) > max_len:\n",
    "        marker.pop(0)\n",
    "\n",
    "def validate_marker(comm_obj, pos):\n",
    "    marker = comm_obj['marker']\n",
    "    max_len = int(comm_obj['max_len'])\n",
    "    if len(marker) < max_len or len(set(marker)) < max_len:\n",
    "        return False\n",
    "    if comm_obj['position'] == 0:\n",
    "        comm_obj['position'] = pos\n",
    "    return True\n",
    "\n",
    "for idx, character in enumerate(data):\n",
    "    add_to_marker(packet, character)\n",
    "    add_to_marker(message, character)\n",
    "    validate_marker(packet, idx+1)\n",
    "    validate_marker(message, idx+1)\n",
    "\n",
    "print(f\"solution to part 1: {packet['position']}\")\n",
    "print(f\"solution to part 2: {message['position']}\")\n"
   ]
  }
 ],
 "metadata": {
  "kernelspec": {
   "display_name": "Python 3.8.13 64-bit",
   "language": "python",
   "name": "python3"
  },
  "language_info": {
   "codemirror_mode": {
    "name": "ipython",
    "version": 3
   },
   "file_extension": ".py",
   "mimetype": "text/x-python",
   "name": "python",
   "nbconvert_exporter": "python",
   "pygments_lexer": "ipython3",
   "version": "3.8.13"
  },
  "orig_nbformat": 4,
  "vscode": {
   "interpreter": {
    "hash": "ff94885aa2d97705a9dae03869c2058fa855d1acd9df351499300343e2e591a2"
   }
  }
 },
 "nbformat": 4,
 "nbformat_minor": 2
}

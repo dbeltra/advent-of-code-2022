{
 "cells": [
  {
   "cell_type": "code",
   "execution_count": 22,
   "metadata": {},
   "outputs": [
    {
     "name": "stdout",
     "output_type": "stream",
     "text": [
      "1555642\n"
     ]
    }
   ],
   "source": [
    "import re\n",
    "\n",
    "with open(\"input.txt\") as f:\n",
    "    data = f.read().splitlines()\n",
    "\n",
    "files = {}\n",
    "current_dir = '/'\n",
    "\n",
    "# Find all files and store their path and size\n",
    "for line in data:\n",
    "    if line.startswith('$ cd'):\n",
    "        command = line.split('$ cd ')[1]\n",
    "        if command == '..':\n",
    "            current_dir = '/'.join(current_dir.split('/')[:-2]) + '/'\n",
    "        elif command == '/':\n",
    "            pass\n",
    "        else: # we are moving into a dir\n",
    "            current_dir += command + '/'\n",
    "\n",
    "    if not line.startswith('$'):\n",
    "        match = re.match(r'(\\d+)\\s+(\\S+)', line)\n",
    "        if match:\n",
    "            size, name = match.groups()\n",
    "            size = int(size)\n",
    "            files[current_dir + name] = size\n",
    "\n",
    "# Calculate the total sizes of the directories\n",
    "dir_sizes = {}\n",
    "for path, size in files.items():\n",
    "    path = path.split('/')[:-1]\n",
    "    current_dir = ''\n",
    "    for part in path:\n",
    "        current_dir += part + '/'\n",
    "        if current_dir not in dir_sizes:\n",
    "            dir_sizes[current_dir] = 0\n",
    "        dir_sizes[current_dir] += size\n",
    "\n",
    "max_size = 100000\n",
    "total_size = 0\n",
    "for size in dir_sizes.values():\n",
    "    if size < 100000:\n",
    "        total_size += size\n",
    "\n",
    "print(total_size)\n"
   ]
  }
 ],
 "metadata": {
  "kernelspec": {
   "display_name": "Python 3.8.13 64-bit",
   "language": "python",
   "name": "python3"
  },
  "language_info": {
   "codemirror_mode": {
    "name": "ipython",
    "version": 3
   },
   "file_extension": ".py",
   "mimetype": "text/x-python",
   "name": "python",
   "nbconvert_exporter": "python",
   "pygments_lexer": "ipython3",
   "version": "3.8.13"
  },
  "orig_nbformat": 4,
  "vscode": {
   "interpreter": {
    "hash": "ff94885aa2d97705a9dae03869c2058fa855d1acd9df351499300343e2e591a2"
   }
  }
 },
 "nbformat": 4,
 "nbformat_minor": 2
}

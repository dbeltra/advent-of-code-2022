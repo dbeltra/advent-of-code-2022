{
 "cells": [
  {
   "cell_type": "code",
   "execution_count": 111,
   "metadata": {},
   "outputs": [
    {
     "name": "stdout",
     "output_type": "stream",
     "text": [
      "solution to part 1: 1809\n",
      "solution to part 2: 479400\n"
     ]
    }
   ],
   "source": [
    "with open(\"input.txt\") as f:\n",
    "    tree_map = [[tree for tree in row] for row in f.read().splitlines()]\n",
    "\n",
    "EDGE_LEFT = EDGE_TOP = -1\n",
    "EDGE_RIGHT = EDGE_BOTTOM = len(tree_map)\n",
    "VISIBLE_TREES = 0\n",
    "BEST_SCORE = 0\n",
    "\n",
    "def tree_checker(row, col, tree_height, start, end, direction, step=1):\n",
    "    score = 0\n",
    "    blocked = False\n",
    "    for x in range(start, end, step):\n",
    "        if direction == 'COL':\n",
    "            value = tree_map[row][x]\n",
    "        else: # row\n",
    "            value = tree_map[x][col]\n",
    "        score += 1\n",
    "        if value >= tree_height:\n",
    "            blocked = True\n",
    "            break\n",
    "    return score, blocked\n",
    "\n",
    "def check_visibility_and_score(row, col, val):\n",
    "    visible = True\n",
    "    if row == 0 or col == 0:\n",
    "        return True, 0\n",
    "\n",
    "    score_r, block_r = tree_checker(row, col, val, col+1, EDGE_RIGHT, 'COL', 1)\n",
    "    score_l, block_l = tree_checker(row, col, val, col-1, EDGE_LEFT, 'COL', -1)\n",
    "    score_b, block_b = tree_checker(row, col, val, row+1, EDGE_BOTTOM, 'ROW', 1)\n",
    "    score_t, block_t = tree_checker(row, col, val, row-1, EDGE_TOP, 'ROW', -1)\n",
    "\n",
    "    if block_r and block_l and block_b and block_t:\n",
    "        visible = False\n",
    "\n",
    "    return visible, score_r * score_l * score_b * score_t\n",
    "\n",
    "for row, valrow in enumerate(tree_map):\n",
    "     for col, val in enumerate(valrow):\n",
    "        visible, tree_score = check_visibility_and_score(row,col, val)\n",
    "        if visible:\n",
    "            VISIBLE_TREES += 1\n",
    "        if tree_score > BEST_SCORE:\n",
    "            BEST_SCORE = tree_score\n",
    "\n",
    "print(f\"solution to part 1: {VISIBLE_TREES}\")\n",
    "print(f\"solution to part 2: {BEST_SCORE}\")\n"
   ]
  }
 ],
 "metadata": {
  "kernelspec": {
   "display_name": "Python 3.8.13 64-bit",
   "language": "python",
   "name": "python3"
  },
  "language_info": {
   "codemirror_mode": {
    "name": "ipython",
    "version": 3
   },
   "file_extension": ".py",
   "mimetype": "text/x-python",
   "name": "python",
   "nbconvert_exporter": "python",
   "pygments_lexer": "ipython3",
   "version": "3.8.13"
  },
  "orig_nbformat": 4,
  "vscode": {
   "interpreter": {
    "hash": "ff94885aa2d97705a9dae03869c2058fa855d1acd9df351499300343e2e591a2"
   }
  }
 },
 "nbformat": 4,
 "nbformat_minor": 2
}

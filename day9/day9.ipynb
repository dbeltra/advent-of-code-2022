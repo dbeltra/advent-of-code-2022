{
 "cells": [
  {
   "cell_type": "code",
   "execution_count": 26,
   "metadata": {},
   "outputs": [
    {
     "name": "stdout",
     "output_type": "stream",
     "text": [
      "Solution to part 1: 6384\n",
      "Solution to part 2: 2734\n"
     ]
    }
   ],
   "source": [
    "with open(\"input.txt\") as f:\n",
    "    data = f.read().splitlines()\n",
    "\n",
    "class Head():\n",
    "    def __init__(self, x, y):\n",
    "        self.x = x\n",
    "        self.y = y\n",
    "\n",
    "    def move(self, direction, units):\n",
    "        if direction == 'R':\n",
    "            self.x += units\n",
    "        elif direction == 'L':\n",
    "            self.x -= units\n",
    "        elif direction == 'U':\n",
    "            self.y += units\n",
    "        elif direction == 'D':\n",
    "            self.y -= units\n",
    "\n",
    "class Tail():\n",
    "    def __init__(self, x, y, head):\n",
    "        self.x = x\n",
    "        self.y = y\n",
    "        self.head = head\n",
    "        self.visited_positions = []\n",
    "\n",
    "    def update(self):\n",
    "        if (self.x, self.y) not in self.visited_positions:\n",
    "            self.visited_positions.append((self.x, self.y))\n",
    "        if not self.is_touching_head():\n",
    "            self.catch_up()\n",
    "\n",
    "    def is_touching_head(self):\n",
    "        adjacent_positions = [(self.x, self.y), (self.x, self.y+1), (self.x, self.y-1), \n",
    "            (self.x+1, self.y), (self.x+1, self.y+1), (self.x+1, self.y-1),\n",
    "            (self.x-1, self.y), (self.x-1, self.y+1), (self.x-1, self.y-1)]\n",
    "        if (self.head.x, self.head.y) in adjacent_positions:\n",
    "            return True\n",
    "        return False\n",
    "\n",
    "    def catch_up(self):\n",
    "        if self.head.x > self.x:\n",
    "            self.x +=1\n",
    "        if self.head.x < self.x:\n",
    "            self.x -=1\n",
    "        if self.head.y > self.y:\n",
    "            self.y +=1\n",
    "        if self.head.y < self.y:\n",
    "            self.y -=1\n",
    "\n",
    "H = Head(0, 0)\n",
    "T = Tail(0, 0, H)\n",
    "\n",
    "tails = {1:  Tail(0, 0, H)}\n",
    "for t in range(2, 10):\n",
    "    tails[t] = Tail(0, 0, tails[t-1])\n",
    "\n",
    "for instruction in data:\n",
    "    direction, units = instruction.split(' ')\n",
    "    for s in range(int(units)):\n",
    "        H.move(direction, 1)\n",
    "        T.update()\n",
    "        for tail in tails.values():\n",
    "            tail.update()\n",
    "\n",
    "print(f'Solution to part 1: {len(T.visited_positions)}')\n",
    "print(f'Solution to part 2: {len(tails[9].visited_positions)}')\n"
   ]
  }
 ],
 "metadata": {
  "kernelspec": {
   "display_name": "Python 3.8.13 64-bit",
   "language": "python",
   "name": "python3"
  },
  "language_info": {
   "codemirror_mode": {
    "name": "ipython",
    "version": 3
   },
   "file_extension": ".py",
   "mimetype": "text/x-python",
   "name": "python",
   "nbconvert_exporter": "python",
   "pygments_lexer": "ipython3",
   "version": "3.8.13"
  },
  "orig_nbformat": 4,
  "vscode": {
   "interpreter": {
    "hash": "ff94885aa2d97705a9dae03869c2058fa855d1acd9df351499300343e2e591a2"
   }
  }
 },
 "nbformat": 4,
 "nbformat_minor": 2
}
